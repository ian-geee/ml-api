{
 "cells": [
  {
   "cell_type": "code",
   "execution_count": 2,
   "id": "971e1aa4",
   "metadata": {},
   "outputs": [
    {
     "name": "stdout",
     "output_type": "stream",
     "text": [
      "hello\n"
     ]
    }
   ],
   "source": [
    "print('hello')"
   ]
  },
  {
   "cell_type": "code",
   "execution_count": null,
   "id": "cfdd39a2",
   "metadata": {},
   "outputs": [
    {
     "name": "stderr",
     "output_type": "stream",
     "text": [
      "<>:12: SyntaxWarning: invalid escape sequence '\\c'\n",
      "<>:12: SyntaxWarning: invalid escape sequence '\\c'\n",
      "C:\\Users\\joule\\AppData\\Local\\Temp\\ipykernel_24440\\3791711231.py:12: SyntaxWarning: invalid escape sequence '\\c'\n",
      "  load_yaml(p=Path(\".\\components\\prep.yaml\"))\n"
     ]
    },
    {
     "data": {
      "text/plain": [
       "{'$schema': 'local.commandComponent',\n",
       " 'name': 'prepare_iris',\n",
       " 'display_name': 'PrepIris',\n",
       " 'version': 1,\n",
       " 'type': 'command',\n",
       " 'inputs': {'input_data': {'type': 'uri_folder'}},\n",
       " 'outputs': {'prep_data': {'type': 'uri_folder'}},\n",
       " 'code': '../prep_src',\n",
       " 'environment': 'local/python',\n",
       " 'command': 'python prep.py --input_data ${{inputs.raw_data}}  --prep_data ${{outputs.prep_data}}'}"
      ]
     },
     "execution_count": 5,
     "metadata": {},
     "output_type": "execute_result"
    }
   ],
   "source": [
    "from pathlib import Path\n",
    "from typing import Any, Dict\n",
    "import yaml\n",
    "\n",
    "def load_yaml(p: Path) -> Dict[str, Any]:\n",
    "    \"\"\"\n",
    "    Opens a file.yaml content and load it into a variable as a dictionary\n",
    "    \"\"\"\n",
    "    with p.open(\"r\", encoding=\"utf-8\") as f:\n",
    "        return yaml.safe_load(f)\n",
    "    \n",
    "load_yaml(p=Path(\".\\components\\prep.yaml\")) "
   ]
  },
  {
   "cell_type": "code",
   "execution_count": 16,
   "id": "529b3356",
   "metadata": {},
   "outputs": [],
   "source": [
    "from sklearn.datasets import load_iris\n",
    "\n",
    "data = load_iris(as_frame=True)\n",
    "df = data.frame  # <--- déjà un DataFrame avec data+target\n",
    "df.to_csv(\"../../data/iris.csv\", index=False)"
   ]
  },
  {
   "cell_type": "code",
   "execution_count": null,
   "id": "52d51e32",
   "metadata": {},
   "outputs": [],
   "source": [
    "# import required libraries\n",
    "from azure.identity import DefaultAzureCredential, InteractiveBrowserCredential\n",
    "\n",
    "from azure.ai.ml import MLClient, Input\n",
    "from azure.ai.ml.dsl import pipeline\n",
    "from azure.ai.ml import load_component\n",
    "\n",
    "parent_dir = \"\"\n",
    "\n",
    "# load_component(source: PathLike | str | IO | None = None, *, relative_origin: str | None = None, params_override: List[Dict] | None = None, **kwargs: Any) -> CommandComponent | ParallelComponent | PipelineComponent\n",
    "\n",
    "# 1. Load components\n",
    "prepare_data = load_component(source=parent_dir + \"./prep.yml\")\n",
    "\n",
    "# 2. Construct pipeline\n",
    "@pipeline()\n",
    "def nyc_taxi_data_regression(pipeline_job_input):\n",
    "    \"\"\"NYC taxi data regression example.\"\"\"\n",
    "    prepare_sample_data = prepare_data(raw_data=pipeline_job_input)\n",
    "    \n",
    "    return {\n",
    "        \"pipeline_job_prepped_data\": prepare_sample_data.outputs.prep_data\n",
    "    }\n",
    "\n",
    "\n",
    "pipeline_job = nyc_taxi_data_regression(\n",
    "    Input(type=\"uri_folder\", path=parent_dir + \"./data/\")\n",
    ")"
   ]
  }
 ],
 "metadata": {
  "kernelspec": {
   "display_name": ".venv",
   "language": "python",
   "name": "python3"
  },
  "language_info": {
   "codemirror_mode": {
    "name": "ipython",
    "version": 3
   },
   "file_extension": ".py",
   "mimetype": "text/x-python",
   "name": "python",
   "nbconvert_exporter": "python",
   "pygments_lexer": "ipython3",
   "version": "3.12.5"
  }
 },
 "nbformat": 4,
 "nbformat_minor": 5
}
